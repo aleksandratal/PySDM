{
 "cells": [
  {
   "cell_type": "code",
   "execution_count": 1,
   "metadata": {},
   "outputs": [],
   "source": [
    "import numpy as np"
   ]
  },
  {
   "cell_type": "code",
   "execution_count": 16,
   "metadata": {},
   "outputs": [],
   "source": [
    "from PySDM_examples.Toon_et_al_1980_Fig_1 import const\n",
    "si = const.si\n",
    "\n",
    "class Setup:\n",
    "    nt = 10\n",
    "    dt = 60 * si.s\n",
    "    mass_of_dry_air = 1\n",
    "    p0 = 2500 * si.Pa\n",
    "    q0 = 0\n",
    "    T0 = 100 * si.K\n",
    "    w = lambda _, __: 1 * si.km / si.s\n",
    "    z0 = 0\n",
    "    n = np.zeros(0)\n",
    "    volume = np.zeros(0)\n",
    "\n",
    "setup = Setup()\n",
    "\n",
    "\n"
   ]
  },
  {
   "cell_type": "code",
   "execution_count": 17,
   "metadata": {},
   "outputs": [],
   "source": [
    "from PySDM.particles import Particles\n",
    "from PySDM.physics import formulae as phys\n",
    "from PySDM.environments._moist import _Moist\n",
    "from PySDM.environments._moist_lagrangian_parcel import _MoistLagrangianParcel\n",
    "from PySDM.mesh import Mesh\n",
    "\n",
    "\n",
    "\n",
    "class MoistLagrangianParcelAdiabaticTITAN(_MoistLagrangianParcel):\n",
    "\n",
    "    def __init__(self, particles: Particles, dt,\n",
    "                 mass_of_dry_air: float, p0: float, q0: float, T0: float, w: callable, z0: float = 0, isothermal: bool = False):\n",
    "\n",
    "        super().__init__(particles, dt, Mesh.mesh_0d(), ['rhod', 'z', 't'], mass_of_dry_air)\n",
    "\n",
    "        # TODO: move w-related logic to _MoistLagrangianParcel\n",
    "        self.isothermal = isothermal\n",
    "        self.w = w\n",
    "\n",
    "        if q0 == 0:\n",
    "            pd0 = p0\n",
    "        else:\n",
    "            pd0 = p0 * (1 - (1 + const.eps / q0)**-1)\n",
    "\n",
    "        self['qv'][:] = q0\n",
    "        self['thd'][:] = phys.th_std(pd0, T0)\n",
    "        self['rhod'][:] = pd0 / const.Rd / T0\n",
    "        self['z'][:] = z0\n",
    "        self['t'][:] = 0\n",
    "\n",
    "        self.sync_parcel_vars()\n",
    "        _Moist.sync(self)\n",
    "        self.notify()\n",
    "\n",
    "    def advance_parcel_vars(self):\n",
    "        print(\"advance\")\n",
    "        dt = self.particles.dt\n",
    "        qv = self['qv'][0]\n",
    "        T = self['T'][0]\n",
    "        p = self['p'][0]\n",
    "        t = self['t'][0]\n",
    "        z = self['z'][0]\n",
    "\n",
    "        rho = p / phys.R(qv) / T\n",
    "        if qv == 0:\n",
    "            pd = p\n",
    "        else:\n",
    "            pd = p * (1 - 1 / (1 + const.eps / qv))\n",
    "\n",
    "        # mid-point value for w\n",
    "        dz_dt = self.w(t + dt/2)\n",
    "\n",
    "        # Explicit Euler for p,T (predictor step assuming dq=0)\n",
    "        dp_dt = - rho * const.g(z) * dz_dt\n",
    "        dpd_dt = dp_dt  # dq=0\n",
    "        if self.isothermal:\n",
    "            dT_dt = 0\n",
    "        else:\n",
    "            dT_dt = dp_dt / rho / phys.c_p(qv)\n",
    "\n",
    "        self._tmp['t'][:] += dt\n",
    "        self._tmp['z'][:] += dt * dz_dt\n",
    "        self._tmp['rhod'][:] += dt * (\n",
    "                dpd_dt / const.Rd / T +\n",
    "                -dT_dt * pd / const.Rd / T**2\n",
    "        )"
   ]
  },
  {
   "cell_type": "code",
   "execution_count": 21,
   "metadata": {},
   "outputs": [
    {
     "name": "stderr",
     "output_type": "stream",
     "text": [
      "C:\\Users\\Ola\\PycharmProjects\\PySDM\\PySDM\\initialisation\\multiplicities.py:20: RuntimeWarning: invalid value encountered in double_scalars\n",
      "  percent_diff = abs(1 - np.sum(y_float) / np.sum(y_int.astype(float)))\n"
     ]
    }
   ],
   "source": [
    "from PySDM.particles_builder import ParticlesBuilder\n",
    "from PySDM.backends import Default\n",
    "from PySDM.environments.products.pressure import Pressure\n",
    "from PySDM.environments.products.displacement import Displacement\n",
    "from PySDM.dynamics.environment import Environment\n",
    "\n",
    "\n",
    "particles_builder = ParticlesBuilder(n_sd=0, backend=Default)\n",
    "particles_builder.set_environment(MoistLagrangianParcelAdiabaticTITAN, {\n",
    "            \"dt\": setup.dt,\n",
    "            \"mass_of_dry_air\": setup.mass_of_dry_air,\n",
    "            \"p0\": setup.p0,\n",
    "            \"q0\": setup.q0,\n",
    "            \"T0\": setup.T0,\n",
    "            \"w\": setup.w,\n",
    "            \"z0\": setup.z0,\n",
    "            \"isothermal\": True\n",
    "        })\n",
    "particles_builder.register_dynamic(Environment, {})\n",
    "attributes = {'n': setup.n, 'volume': setup.volume}\n",
    "products = {Pressure: {}, Displacement: {}}\n",
    "particles = particles_builder.get_particles(attributes, products)"
   ]
  },
  {
   "cell_type": "code",
   "execution_count": 22,
   "metadata": {},
   "outputs": [
    {
     "name": "stdout",
     "output_type": "stream",
     "text": [
      "advance\n",
      "advance\n",
      "advance\n",
      "advance\n",
      "advance\n",
      "advance\n",
      "advance\n",
      "advance\n",
      "advance\n",
      "advance\n"
     ]
    }
   ],
   "source": [
    "z = [setup.z0]\n",
    "p = [setup.p0]\n",
    "for i in range(setup.nt):\n",
    "    particles.run(1)\n",
    "    p.append(particles.products[\"p\"].get()[0])\n",
    "    z.append(particles.products['z'].get()[0])"
   ]
  },
  {
   "cell_type": "code",
   "execution_count": 25,
   "metadata": {},
   "outputs": [
    {
     "data": {
      "text/plain": "<Figure size 432x288 with 1 Axes>",
      "image/png": "[encoded data removed]"
     },
     "metadata": {
      "needs_background": "light"
     },
     "output_type": "display_data"
    }
   ],
   "source": [
    "import matplotlib.pyplot as plt\n",
    "plt.plot(p, z)\n",
    "#plt.ylim(0, 600000)\n",
    "#plt.xlim(10**(-4), 10**3)\n",
    "plt.xscale(\"log\")"
   ]
  },
  {
   "cell_type": "code",
   "execution_count": null,
   "outputs": [],
   "source": [],
   "metadata": {
    "collapsed": false,
    "pycharm": {
     "name": "#%%\n"
    }
   }
  },
  {
   "cell_type": "code",
   "execution_count": null,
   "outputs": [],
   "source": [],
   "metadata": {
    "collapsed": false,
    "pycharm": {
     "name": "#%%\n"
    }
   }
  },
  {
   "cell_type": "code",
   "execution_count": null,
   "metadata": {},
   "outputs": [],
   "source": []
  },
  {
   "cell_type": "code",
   "execution_count": null,
   "metadata": {},
   "outputs": [],
   "source": []
  },
  {
   "cell_type": "code",
   "execution_count": null,
   "metadata": {},
   "outputs": [],
   "source": []
  }
 ],
 "metadata": {
  "kernelspec": {
   "name": "python37364bitbasecondab46b54e3201f49c2bb3f33d2692d41f5",
   "language": "python",
   "display_name": "Python 3.7.3 64-bit ('base': conda)"
  },
  "language_info": {
   "codemirror_mode": {
    "name": "ipython",
    "version": 3
   },
   "file_extension": ".py",
   "mimetype": "text/x-python",
   "name": "python",
   "nbconvert_exporter": "python",
   "pygments_lexer": "ipython3",
   "version": "3.8.2"
  }
 },
 "nbformat": 4,
 "nbformat_minor": 1
}