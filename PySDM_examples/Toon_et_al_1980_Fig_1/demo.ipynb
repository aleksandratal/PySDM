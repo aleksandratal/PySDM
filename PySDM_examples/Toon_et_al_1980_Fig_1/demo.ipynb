{
 "cells": [
  {
   "cell_type": "code",
   "execution_count": 10,
   "metadata": {},
   "outputs": [],
   "source": [
    "import numpy as np"
   ]
  },
  {
   "cell_type": "code",
   "execution_count": 85,
   "metadata": {},
   "outputs": [],
   "source": [
    "from PySDM.physics import constants as const\n",
    "si = const.si\n",
    "\n",
    "class Setup:\n",
    "    nt = 10\n",
    "    dt = .1 * si.s\n",
    "    mass_of_dry_air = 1\n",
    "    p0 = 1000 * si.hPa\n",
    "    q0 = 1e-5\n",
    "    T0 = 300 * si.K\n",
    "    w = lambda _, __: 1 * si.m / si.s\n",
    "    z0 = 0\n",
    "    n = np.zeros(0)\n",
    "    volume = np.zeros(0)\n",
    "\n",
    "setup = Setup()"
   ]
  },
  {
   "cell_type": "code",
   "execution_count": 90,
   "metadata": {},
   "outputs": [],
   "source": [
    "from PySDM.particles import Particles\n",
    "from PySDM.physics import formulae as phys\n",
    "from PySDM.environments._moist import _Moist\n",
    "from PySDM.environments._moist_lagrangian_parcel import _MoistLagrangianParcel\n",
    "from PySDM.mesh import Mesh\n",
    "\n",
    "const.g = 2\n",
    "\n",
    "\n",
    "class MoistLagrangianParcelAdiabaticTITAN(_MoistLagrangianParcel):\n",
    "\n",
    "    def __init__(self, particles: Particles, dt,\n",
    "                 mass_of_dry_air: float, p0: float, q0: float, T0: float, w: callable, z0: float = 0):\n",
    "\n",
    "        super().__init__(particles, dt, Mesh.mesh_0d(), ['rhod', 'z', 't'], mass_of_dry_air)\n",
    "\n",
    "        # TODO: move w-related logic to _MoistLagrangianParcel\n",
    "        self.w = w\n",
    "\n",
    "        pd0 = p0 * (1 - (1 + const.eps / q0)**-1)\n",
    "\n",
    "        self['qv'][:] = q0\n",
    "        self['thd'][:] = phys.th_std(pd0, T0)\n",
    "        self['rhod'][:] = pd0 / const.Rd / T0\n",
    "        self['z'][:] = z0\n",
    "        self['t'][:] = 0\n",
    "\n",
    "        self.sync_parcel_vars()\n",
    "        _Moist.sync(self)\n",
    "        self.notify()\n",
    "\n",
    "    def advance_parcel_vars(self):\n",
    "        print(\"advance\")\n",
    "        dt = self.particles.dt\n",
    "        qv = self['qv'][0]\n",
    "        T = self['T'][0]\n",
    "        p = self['p'][0]\n",
    "        t = self['t'][0]\n",
    "\n",
    "        rho = p / phys.R(qv) / T\n",
    "        pd = p * (1 - 1 / (1 + const.eps / qv))\n",
    "\n",
    "        # mid-point value for w\n",
    "        dz_dt = self.w(t + dt/2)\n",
    "\n",
    "        # Explicit Euler for p,T (predictor step assuming dq=0)\n",
    "        dp_dt = - rho * const.g * dz_dt\n",
    "        dpd_dt = dp_dt  # dq=0\n",
    "        dT_dt = dp_dt / rho / phys.c_p(qv)\n",
    "\n",
    "        self._tmp['t'][:] += dt\n",
    "        self._tmp['z'][:] += dt * dz_dt\n",
    "        self._tmp['rhod'][:] += dt * (\n",
    "                dpd_dt / const.Rd / T +\n",
    "                -dT_dt * pd / const.Rd / T**2\n",
    "        )"
   ]
  },
  {
   "cell_type": "code",
   "execution_count": 91,
   "metadata": {},
   "outputs": [],
   "source": [
    "from PySDM.particles_builder import ParticlesBuilder\n",
    "from PySDM.backends import Default\n",
    "from PySDM.environments.products.pressure import Pressure\n",
    "from PySDM.dynamics.environment import Environment\n",
    "\n",
    "\n",
    "particles_builder = ParticlesBuilder(n_sd=0, backend=Default)\n",
    "particles_builder.set_environment(MoistLagrangianParcelAdiabaticTITAN, {\n",
    "            \"dt\": setup.dt,\n",
    "            \"mass_of_dry_air\": setup.mass_of_dry_air,\n",
    "            \"p0\": setup.p0,\n",
    "            \"q0\": setup.q0,\n",
    "            \"T0\": setup.T0,\n",
    "            \"w\": setup.w,\n",
    "            \"z0\": setup.z0\n",
    "        })\n",
    "particles_builder.register_dynamic(Environment, {})\n",
    "attributes = {'n': setup.n, 'volume': setup.volume}\n",
    "products = {Pressure: {}}\n",
    "particles = particles_builder.get_particles(attributes, products)"
   ]
  },
  {
   "cell_type": "code",
   "execution_count": 92,
   "metadata": {},
   "outputs": [
    {
     "name": "stdout",
     "output_type": "stream",
     "text": [
      "advance\n",
      "advance\n",
      "advance\n",
      "advance\n",
      "advance\n",
      "advance\n",
      "advance\n",
      "advance\n",
      "advance\n",
      "advance\n"
     ]
    }
   ],
   "source": [
    "p = [setup.p0]\n",
    "for _ in range(setup.nt):\n",
    "    particles.run(1)\n",
    "    p.append(particles.products[\"p\"].get())"
   ]
  },
  {
   "cell_type": "code",
   "execution_count": 93,
   "metadata": {},
   "outputs": [
    {
     "data": {
      "text/plain": [
       "[<matplotlib.lines.Line2D at 0x2424240bfa0>]"
      ]
     },
     "execution_count": 93,
     "metadata": {},
     "output_type": "execute_result"
    },
    {
     "data": {
      "image/png": "[encoded data removed]",
      "text/plain": [
       "<Figure size 432x288 with 1 Axes>"
      ]
     },
     "metadata": {
      "needs_background": "light"
     },
     "output_type": "display_data"
    }
   ],
   "source": [
    "import matplotlib.pyplot as plt\n",
    "plt.plot(p)"
   ]
  },
  {
   "cell_type": "code",
   "execution_count": null,
   "metadata": {},
   "outputs": [],
   "source": []
  },
  {
   "cell_type": "code",
   "execution_count": null,
   "metadata": {},
   "outputs": [],
   "source": []
  },
  {
   "cell_type": "code",
   "execution_count": null,
   "metadata": {},
   "outputs": [],
   "source": []
  }
 ],
 "metadata": {
  "kernelspec": {
   "display_name": "Python 3",
   "language": "python",
   "name": "python3"
  },
  "language_info": {
   "codemirror_mode": {
    "name": "ipython",
    "version": 3
   },
   "file_extension": ".py",
   "mimetype": "text/x-python",
   "name": "python",
   "nbconvert_exporter": "python",
   "pygments_lexer": "ipython3",
   "version": "3.8.2"
  }
 },
 "nbformat": 4,
 "nbformat_minor": 1
}
